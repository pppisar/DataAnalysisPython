{
 "cells": [
  {
   "cell_type": "markdown",
   "metadata": {},
   "source": [
    "## TEST"
   ]
  },
  {
   "cell_type": "code",
   "execution_count": 3,
   "metadata": {
    "ExecuteTime": {
     "end_time": "2020-09-14T11:36:19.810929Z",
     "start_time": "2020-09-14T11:36:19.804629Z"
    }
   },
   "outputs": [
    {
     "data": {
      "text/plain": [
       "4"
      ]
     },
     "execution_count": 3,
     "metadata": {},
     "output_type": "execute_result"
    }
   ],
   "source": [
    "2+2"
   ]
  },
  {
   "cell_type": "code",
   "execution_count": 93,
   "metadata": {
    "ExecuteTime": {
     "end_time": "2020-09-14T13:48:39.267419Z",
     "start_time": "2020-09-14T13:48:34.811321Z"
    }
   },
   "outputs": [
    {
     "name": "stdout",
     "output_type": "stream",
     "text": [
      "Collecting simple_benchmark\n",
      "  Downloading simple_benchmark-0.0.9.tar.gz (8.0 kB)\n",
      "Building wheels for collected packages: simple-benchmark\n",
      "  Building wheel for simple-benchmark (setup.py): started\n",
      "  Building wheel for simple-benchmark (setup.py): finished with status 'done'\n",
      "  Created wheel for simple-benchmark: filename=simple_benchmark-0.0.9-py3-none-any.whl size=7476 sha256=4b371f037e7b1a6cd47fb60d2a358cb6b0824af402618c68fccaf331b3982c0f\n",
      "  Stored in directory: c:\\users\\alexpc\\appdata\\local\\pip\\cache\\wheels\\15\\2d\\ee\\60e4cee26521cf1a7081b622ce0b365a37428ddf3bcfeba1c7\n",
      "Successfully built simple-benchmark\n",
      "Installing collected packages: simple-benchmark\n",
      "Successfully installed simple-benchmark-0.0.9\n"
     ]
    }
   ],
   "source": [
    "!pip install --no-deps simple_benchmark"
   ]
  },
  {
   "cell_type": "markdown",
   "metadata": {},
   "source": [
    "## 4"
   ]
  },
  {
   "cell_type": "code",
   "execution_count": 5,
   "metadata": {
    "ExecuteTime": {
     "end_time": "2020-09-14T14:11:44.859459Z",
     "start_time": "2020-09-14T14:11:43.912822Z"
    }
   },
   "outputs": [],
   "source": [
    "import math\n",
    "import pandas as pd\n",
    "import random\n",
    "import numpy as np\n",
    "from simple_benchmark import benchmark"
   ]
  },
  {
   "cell_type": "code",
   "execution_count": 13,
   "metadata": {
    "ExecuteTime": {
     "end_time": "2020-09-14T11:48:53.719491Z",
     "start_time": "2020-09-14T11:48:53.711033Z"
    }
   },
   "outputs": [
    {
     "name": "stdout",
     "output_type": "stream",
     "text": [
      "Wall time: 0 ns\n"
     ]
    },
    {
     "data": {
      "text/plain": [
       "54875873536"
      ]
     },
     "execution_count": 13,
     "metadata": {},
     "output_type": "execute_result"
    }
   ],
   "source": [
    "%time 22**8"
   ]
  },
  {
   "cell_type": "code",
   "execution_count": 12,
   "metadata": {
    "ExecuteTime": {
     "end_time": "2020-09-14T11:48:50.624113Z",
     "start_time": "2020-09-14T11:48:50.614780Z"
    }
   },
   "outputs": [
    {
     "name": "stdout",
     "output_type": "stream",
     "text": [
      "Wall time: 0 ns\n"
     ]
    },
    {
     "data": {
      "text/plain": [
       "54875873536"
      ]
     },
     "execution_count": 12,
     "metadata": {},
     "output_type": "execute_result"
    }
   ],
   "source": [
    "%%time\n",
    "22**8"
   ]
  },
  {
   "cell_type": "markdown",
   "metadata": {},
   "source": [
    "## 5"
   ]
  },
  {
   "cell_type": "code",
   "execution_count": 16,
   "metadata": {
    "ExecuteTime": {
     "end_time": "2020-09-14T11:51:55.922500Z",
     "start_time": "2020-09-14T11:51:55.914769Z"
    }
   },
   "outputs": [
    {
     "name": "stdout",
     "output_type": "stream",
     "text": [
      "75 ns ± 25 ns per loop (mean ± std. dev. of 2 runs, 6 loops each)\n"
     ]
    }
   ],
   "source": [
    "%timeit -r 2 -n 6 22**8"
   ]
  },
  {
   "cell_type": "code",
   "execution_count": 18,
   "metadata": {
    "ExecuteTime": {
     "end_time": "2020-09-14T11:52:49.947491Z",
     "start_time": "2020-09-14T11:52:49.941071Z"
    }
   },
   "outputs": [
    {
     "name": "stdout",
     "output_type": "stream",
     "text": [
      "42.6 ns ± 11.9 ns per loop (mean ± std. dev. of 6 runs, 9 loops each)\n"
     ]
    }
   ],
   "source": [
    "%timeit -r 7 -n  9 22**8 "
   ]
  },
  {
   "cell_type": "code",
   "execution_count": 19,
   "metadata": {
    "ExecuteTime": {
     "end_time": "2020-09-14T11:53:04.582674Z",
     "start_time": "2020-09-14T11:53:04.576664Z"
    }
   },
   "outputs": [
    {
     "name": "stdout",
     "output_type": "stream",
     "text": [
      "75 ns ± 25 ns per loop (mean ± std. dev. of 2 runs, 6 loops each)\n"
     ]
    }
   ],
   "source": [
    "%%timeit -r 2 -n 6\n",
    "22**8"
   ]
  },
  {
   "cell_type": "code",
   "execution_count": 20,
   "metadata": {
    "ExecuteTime": {
     "end_time": "2020-09-14T11:53:23.410510Z",
     "start_time": "2020-09-14T11:53:23.403343Z"
    }
   },
   "outputs": [
    {
     "name": "stdout",
     "output_type": "stream",
     "text": [
      "64.8 ns ± 16.2 ns per loop (mean ± std. dev. of 6 runs, 9 loops each)\n"
     ]
    }
   ],
   "source": [
    "%%timeit -r 7 -n 9\n",
    "22**8"
   ]
  },
  {
   "cell_type": "markdown",
   "metadata": {},
   "source": [
    "## 6"
   ]
  },
  {
   "cell_type": "code",
   "execution_count": 22,
   "metadata": {
    "ExecuteTime": {
     "end_time": "2020-09-14T12:05:09.386652Z",
     "start_time": "2020-09-14T12:04:56.198171Z"
    }
   },
   "outputs": [
    {
     "name": "stdout",
     "output_type": "stream",
     "text": [
      "16.3 ns ± 0.587 ns per loop (mean ± std. dev. of 7 runs, 100000000 loops each)\n"
     ]
    },
    {
     "data": {
      "text/plain": [
       "1.57147359999999e-08"
      ]
     },
     "execution_count": 22,
     "metadata": {},
     "output_type": "execute_result"
    }
   ],
   "source": [
    "t = %timeit -o 22**8\n",
    "t.best"
   ]
  },
  {
   "cell_type": "markdown",
   "metadata": {},
   "source": [
    "## 7"
   ]
  },
  {
   "cell_type": "code",
   "execution_count": 27,
   "metadata": {
    "ExecuteTime": {
     "end_time": "2020-09-14T15:15:39.830990Z",
     "start_time": "2020-09-14T15:15:39.819979Z"
    }
   },
   "outputs": [],
   "source": [
    "df = pd.DataFrame({'Автооцінювання': ['6ms','9ms','12ms'], \n",
    "                   '%time': ['0 ns','3.95 ms','5.25 ms'], \n",
    "                   '%%time' : ['0 ns','1 ms','7.85 ms'], \n",
    "                   '%timeit(Мінімальний)' : ['338 ns','1.42 ms','4.03 ms'], \n",
    "                   '%%timeit' : ['345 ns','1.48 ms','4.11 ms']})"
   ]
  },
  {
   "cell_type": "code",
   "execution_count": 28,
   "metadata": {
    "ExecuteTime": {
     "end_time": "2020-09-14T15:15:44.227139Z",
     "start_time": "2020-09-14T15:15:44.212730Z"
    }
   },
   "outputs": [
    {
     "data": {
      "text/html": [
       "<div>\n",
       "<style scoped>\n",
       "    .dataframe tbody tr th:only-of-type {\n",
       "        vertical-align: middle;\n",
       "    }\n",
       "\n",
       "    .dataframe tbody tr th {\n",
       "        vertical-align: top;\n",
       "    }\n",
       "\n",
       "    .dataframe thead th {\n",
       "        text-align: right;\n",
       "    }\n",
       "</style>\n",
       "<table border=\"1\" class=\"dataframe\">\n",
       "  <thead>\n",
       "    <tr style=\"text-align: right;\">\n",
       "      <th></th>\n",
       "      <th>Автооцінювання</th>\n",
       "      <th>%time</th>\n",
       "      <th>%%time</th>\n",
       "      <th>%timeit(Мінімальний)</th>\n",
       "      <th>%%timeit</th>\n",
       "    </tr>\n",
       "  </thead>\n",
       "  <tbody>\n",
       "    <tr>\n",
       "      <th>0</th>\n",
       "      <td>6ms</td>\n",
       "      <td>0 ns</td>\n",
       "      <td>0 ns</td>\n",
       "      <td>338 ns</td>\n",
       "      <td>345 ns</td>\n",
       "    </tr>\n",
       "    <tr>\n",
       "      <th>1</th>\n",
       "      <td>9ms</td>\n",
       "      <td>3.95 ms</td>\n",
       "      <td>1 ms</td>\n",
       "      <td>1.42 ms</td>\n",
       "      <td>1.48 ms</td>\n",
       "    </tr>\n",
       "    <tr>\n",
       "      <th>2</th>\n",
       "      <td>12ms</td>\n",
       "      <td>5.25 ms</td>\n",
       "      <td>7.85 ms</td>\n",
       "      <td>4.03 ms</td>\n",
       "      <td>4.11 ms</td>\n",
       "    </tr>\n",
       "  </tbody>\n",
       "</table>\n",
       "</div>"
      ],
      "text/plain": [
       "  Автооцінювання    %time   %%time %timeit(Мінімальний) %%timeit\n",
       "0            6ms     0 ns     0 ns               338 ns   345 ns\n",
       "1            9ms  3.95 ms     1 ms              1.42 ms  1.48 ms\n",
       "2           12ms  5.25 ms  7.85 ms              4.03 ms  4.11 ms"
      ]
     },
     "execution_count": 28,
     "metadata": {},
     "output_type": "execute_result"
    }
   ],
   "source": [
    "df"
   ]
  },
  {
   "cell_type": "code",
   "execution_count": 59,
   "metadata": {
    "ExecuteTime": {
     "end_time": "2020-09-14T12:52:54.508013Z",
     "start_time": "2020-09-14T12:52:54.503937Z"
    }
   },
   "outputs": [],
   "source": [
    "n = 10000"
   ]
  },
  {
   "cell_type": "code",
   "execution_count": 79,
   "metadata": {
    "ExecuteTime": {
     "end_time": "2020-09-14T13:16:32.297317Z",
     "start_time": "2020-09-14T13:16:32.291394Z"
    }
   },
   "outputs": [
    {
     "data": {
      "text/plain": [
       "0.8686709614860095"
      ]
     },
     "execution_count": 79,
     "metadata": {},
     "output_type": "execute_result"
    }
   ],
   "source": [
    "math.sinh(math.pi/4)"
   ]
  },
  {
   "cell_type": "code",
   "execution_count": 80,
   "metadata": {
    "ExecuteTime": {
     "end_time": "2020-09-14T13:17:04.112236Z",
     "start_time": "2020-09-14T13:17:04.103139Z"
    }
   },
   "outputs": [
    {
     "data": {
      "text/plain": [
       "0.5217619471080972"
      ]
     },
     "execution_count": 80,
     "metadata": {},
     "output_type": "execute_result"
    }
   ],
   "source": [
    "math.sinh((1/n)* sum([random.random() for i in range(n)]))"
   ]
  },
  {
   "cell_type": "code",
   "execution_count": 81,
   "metadata": {
    "ExecuteTime": {
     "end_time": "2020-09-14T13:17:41.716407Z",
     "start_time": "2020-09-14T13:17:41.704249Z"
    }
   },
   "outputs": [
    {
     "data": {
      "text/plain": [
       "0.5456101658578185"
      ]
     },
     "execution_count": 81,
     "metadata": {},
     "output_type": "execute_result"
    }
   ],
   "source": [
    "(1/n)*(sum([math.sinh(random.random()) for i in range(n)]))"
   ]
  },
  {
   "cell_type": "markdown",
   "metadata": {},
   "source": [
    "##### %timeit"
   ]
  },
  {
   "cell_type": "code",
   "execution_count": 63,
   "metadata": {
    "ExecuteTime": {
     "end_time": "2020-09-14T12:55:02.801974Z",
     "start_time": "2020-09-14T12:55:00.000241Z"
    }
   },
   "outputs": [
    {
     "name": "stdout",
     "output_type": "stream",
     "text": [
      "341 ns ± 2.1 ns per loop (mean ± std. dev. of 7 runs, 1000000 loops each)\n"
     ]
    },
    {
     "data": {
      "text/plain": [
       "3.3871080000062647e-07"
      ]
     },
     "execution_count": 63,
     "metadata": {},
     "output_type": "execute_result"
    }
   ],
   "source": [
    "t1 = %timeit -o math.sinh(math.pi/4)\n",
    "t1.best"
   ]
  },
  {
   "cell_type": "code",
   "execution_count": 67,
   "metadata": {
    "ExecuteTime": {
     "end_time": "2020-09-14T13:03:37.476135Z",
     "start_time": "2020-09-14T13:03:25.505747Z"
    }
   },
   "outputs": [
    {
     "name": "stdout",
     "output_type": "stream",
     "text": [
      "1.45 ms ± 15.5 µs per loop (mean ± std. dev. of 7 runs, 1000 loops each)\n"
     ]
    },
    {
     "data": {
      "text/plain": [
       "0.0014347369999995862"
      ]
     },
     "execution_count": 67,
     "metadata": {},
     "output_type": "execute_result"
    }
   ],
   "source": [
    "t2 = %timeit -o math.sinh((1/n)* sum([random.random() for i in range(n)]))\n",
    "t2.best"
   ]
  },
  {
   "cell_type": "code",
   "execution_count": 62,
   "metadata": {
    "ExecuteTime": {
     "end_time": "2020-09-14T12:54:54.341918Z",
     "start_time": "2020-09-14T12:54:51.003562Z"
    }
   },
   "outputs": [
    {
     "name": "stdout",
     "output_type": "stream",
     "text": [
      "4.07 ms ± 45.2 µs per loop (mean ± std. dev. of 7 runs, 100 loops each)\n"
     ]
    },
    {
     "data": {
      "text/plain": [
       "0.004035159000004569"
      ]
     },
     "execution_count": 62,
     "metadata": {},
     "output_type": "execute_result"
    }
   ],
   "source": [
    "t3 = %timeit -o (1/n)*(sum([math.sinh(random.random()) for i in range(n)]))\n",
    "t3.best"
   ]
  },
  {
   "cell_type": "markdown",
   "metadata": {},
   "source": [
    "#### %%timeit"
   ]
  },
  {
   "cell_type": "code",
   "execution_count": 73,
   "metadata": {
    "ExecuteTime": {
     "end_time": "2020-09-14T13:13:01.378677Z",
     "start_time": "2020-09-14T13:12:58.500774Z"
    }
   },
   "outputs": [
    {
     "name": "stdout",
     "output_type": "stream",
     "text": [
      "345 ns ± 4.17 ns per loop (mean ± std. dev. of 7 runs, 1000000 loops each)\n"
     ]
    }
   ],
   "source": [
    "%%timeit \n",
    "math.sinh(math.pi/4)"
   ]
  },
  {
   "cell_type": "code",
   "execution_count": 75,
   "metadata": {
    "ExecuteTime": {
     "end_time": "2020-09-14T13:13:49.463750Z",
     "start_time": "2020-09-14T13:13:37.234728Z"
    }
   },
   "outputs": [
    {
     "name": "stdout",
     "output_type": "stream",
     "text": [
      "1.48 ms ± 49.4 µs per loop (mean ± std. dev. of 7 runs, 1000 loops each)\n"
     ]
    }
   ],
   "source": [
    "%%timeit \n",
    "math.sinh((1/n)* sum([random.random() for i in range(n)]))"
   ]
  },
  {
   "cell_type": "code",
   "execution_count": 76,
   "metadata": {
    "ExecuteTime": {
     "end_time": "2020-09-14T13:14:17.195918Z",
     "start_time": "2020-09-14T13:14:13.839059Z"
    }
   },
   "outputs": [
    {
     "name": "stdout",
     "output_type": "stream",
     "text": [
      "4.11 ms ± 74.1 µs per loop (mean ± std. dev. of 7 runs, 100 loops each)\n"
     ]
    }
   ],
   "source": [
    "%%timeit \n",
    "(1/n)*(sum([math.sinh(random.random()) for i in range(n)]))"
   ]
  },
  {
   "cell_type": "markdown",
   "metadata": {},
   "source": [
    "#### %time"
   ]
  },
  {
   "cell_type": "code",
   "execution_count": 64,
   "metadata": {
    "ExecuteTime": {
     "end_time": "2020-09-14T12:55:26.534255Z",
     "start_time": "2020-09-14T12:55:26.525019Z"
    }
   },
   "outputs": [
    {
     "name": "stdout",
     "output_type": "stream",
     "text": [
      "Wall time: 0 ns\n"
     ]
    },
    {
     "data": {
      "text/plain": [
       "0.8686709614860095"
      ]
     },
     "execution_count": 64,
     "metadata": {},
     "output_type": "execute_result"
    }
   ],
   "source": [
    "%time math.sinh(math.pi/4)"
   ]
  },
  {
   "cell_type": "code",
   "execution_count": 65,
   "metadata": {
    "ExecuteTime": {
     "end_time": "2020-09-14T12:56:07.224337Z",
     "start_time": "2020-09-14T12:56:07.209795Z"
    }
   },
   "outputs": [
    {
     "name": "stdout",
     "output_type": "stream",
     "text": [
      "Wall time: 3.95 ms\n"
     ]
    },
    {
     "data": {
      "text/plain": [
       "0.518713502426657"
      ]
     },
     "execution_count": 65,
     "metadata": {},
     "output_type": "execute_result"
    }
   ],
   "source": [
    "%time math.sinh((1/n)* sum([random.random() for i in range(n)]))"
   ]
  },
  {
   "cell_type": "code",
   "execution_count": 66,
   "metadata": {
    "ExecuteTime": {
     "end_time": "2020-09-14T12:56:09.396111Z",
     "start_time": "2020-09-14T12:56:09.379381Z"
    }
   },
   "outputs": [
    {
     "name": "stdout",
     "output_type": "stream",
     "text": [
      "Wall time: 5.25 ms\n"
     ]
    },
    {
     "data": {
      "text/plain": [
       "0.5396221567792948"
      ]
     },
     "execution_count": 66,
     "metadata": {},
     "output_type": "execute_result"
    }
   ],
   "source": [
    "%time (1/n)*(sum([math.sinh(random.random()) for i in range(n)]))"
   ]
  },
  {
   "cell_type": "markdown",
   "metadata": {},
   "source": [
    "#### %%time"
   ]
  },
  {
   "cell_type": "code",
   "execution_count": 70,
   "metadata": {
    "ExecuteTime": {
     "end_time": "2020-09-14T13:04:50.687657Z",
     "start_time": "2020-09-14T13:04:50.679900Z"
    }
   },
   "outputs": [
    {
     "name": "stdout",
     "output_type": "stream",
     "text": [
      "Wall time: 0 ns\n"
     ]
    },
    {
     "data": {
      "text/plain": [
       "0.8686709614860095"
      ]
     },
     "execution_count": 70,
     "metadata": {},
     "output_type": "execute_result"
    }
   ],
   "source": [
    "%%time \n",
    "math.sinh(math.pi/4)"
   ]
  },
  {
   "cell_type": "code",
   "execution_count": 71,
   "metadata": {
    "ExecuteTime": {
     "end_time": "2020-09-14T13:05:26.968041Z",
     "start_time": "2020-09-14T13:05:26.958560Z"
    }
   },
   "outputs": [
    {
     "name": "stdout",
     "output_type": "stream",
     "text": [
      "Wall time: 1 ms\n"
     ]
    },
    {
     "data": {
      "text/plain": [
       "0.5205695402824806"
      ]
     },
     "execution_count": 71,
     "metadata": {},
     "output_type": "execute_result"
    }
   ],
   "source": [
    "%%time \n",
    "math.sinh((1/n)* sum([random.random() for i in range(n)]))"
   ]
  },
  {
   "cell_type": "code",
   "execution_count": 72,
   "metadata": {
    "ExecuteTime": {
     "end_time": "2020-09-14T13:05:50.164574Z",
     "start_time": "2020-09-14T13:05:50.146909Z"
    }
   },
   "outputs": [
    {
     "name": "stdout",
     "output_type": "stream",
     "text": [
      "Wall time: 7.85 ms\n"
     ]
    },
    {
     "data": {
      "text/plain": [
       "0.5399623991923546"
      ]
     },
     "execution_count": 72,
     "metadata": {},
     "output_type": "execute_result"
    }
   ],
   "source": [
    "%%time \n",
    "(1/n)*(sum([math.sinh(random.random()) for i in range(n)]))"
   ]
  },
  {
   "cell_type": "markdown",
   "metadata": {},
   "source": [
    "## 10"
   ]
  },
  {
   "cell_type": "code",
   "execution_count": 12,
   "metadata": {
    "ExecuteTime": {
     "end_time": "2020-09-14T14:16:34.098141Z",
     "start_time": "2020-09-14T14:16:34.088642Z"
    }
   },
   "outputs": [],
   "source": [
    "def func2_list(n):\n",
    "    return math.sinh((1/n)* sum([random.random() for i in range(n)]))\n",
    "def func3_list(n):\n",
    "    return (1/n)*(sum([math.sinh(random.random()) for i in range(n)]))\n",
    "def func4_list(n):\n",
    "    return((1/n**2)*sum([sum([random.random() for i in range(n)]) for i in range(n)]))"
   ]
  },
  {
   "cell_type": "markdown",
   "metadata": {},
   "source": [
    "## 11"
   ]
  },
  {
   "cell_type": "code",
   "execution_count": 8,
   "metadata": {
    "ExecuteTime": {
     "end_time": "2020-09-14T14:14:05.147610Z",
     "start_time": "2020-09-14T14:14:05.141231Z"
    }
   },
   "outputs": [],
   "source": [
    "def func2_np(n):\n",
    "    return np.sinh((1/n)*np.sum(np.random.rand(n)))\n",
    "def func3_np(n):\n",
    "    return ((1/n)*np.sum(np.sinh(np.random.rand(n))))\n",
    "def func4_np(n):\n",
    "    return (1/n**2)*np.sum(np.random.rand(n,n))"
   ]
  },
  {
   "cell_type": "markdown",
   "metadata": {},
   "source": [
    "## 12"
   ]
  },
  {
   "cell_type": "code",
   "execution_count": 19,
   "metadata": {
    "ExecuteTime": {
     "end_time": "2020-09-14T14:31:55.978632Z",
     "start_time": "2020-09-14T14:31:49.393808Z"
    }
   },
   "outputs": [
    {
     "name": "stdout",
     "output_type": "stream",
     "text": [
      "         func2_list  func3_list  func2_np  func3_np\n",
      "1          0.000001    0.000001  0.000010  0.000008\n",
      "10         0.000002    0.000004  0.000010  0.000009\n",
      "100        0.000013    0.000033  0.000011  0.000012\n",
      "1000       0.000140    0.000347  0.000022  0.000042\n",
      "10000      0.001350    0.003439  0.000117  0.000321\n",
      "100000     0.013981    0.035875  0.001068  0.003074\n",
      "1000000    0.186773    0.412543  0.021519  0.048060\n",
      "Wall time: 5.25 s\n"
     ]
    },
    {
     "data": {
      "image/png": "[encoded data removed]",
      "text/plain": [
       "<Figure size 432x288 with 1 Axes>"
      ]
     },
     "metadata": {
      "needs_background": "light"
     },
     "output_type": "display_data"
    }
   ],
   "source": [
    "%%time\n",
    "b = benchmark([func2_list, func3_list, func2_np, func3_np],\n",
    "              arguments = {10**i: 10**i for i in range(7)}, argument_name='n')\n",
    "print(b)\n",
    "b.plot()"
   ]
  },
  {
   "cell_type": "markdown",
   "metadata": {},
   "source": [
    "## 13"
   ]
  },
  {
   "cell_type": "code",
   "execution_count": 20,
   "metadata": {
    "ExecuteTime": {
     "end_time": "2020-09-14T14:33:20.456320Z",
     "start_time": "2020-09-14T14:32:10.037100Z"
    }
   },
   "outputs": [
    {
     "name": "stdout",
     "output_type": "stream",
     "text": [
      "       func2_list  func3_list  func4_list  func2_np  func3_np  func4_np\n",
      "1        0.000001    0.000001    0.000002  0.000010  0.000008  0.000009\n",
      "10       0.000002    0.000004    0.000021  0.000010  0.000009  0.000010\n",
      "100      0.000013    0.000033    0.001281  0.000011  0.000012  0.000116\n",
      "1000     0.000140    0.000349    0.149230  0.000021  0.000042  0.015367\n",
      "10000    0.001370    0.003463   14.548296  0.000117  0.000315  1.593216\n",
      "Wall time: 1min 9s\n"
     ]
    },
    {
     "data": {
      "image/png": "[encoded data removed]",
      "text/plain": [
       "<Figure size 432x288 with 1 Axes>"
      ]
     },
     "metadata": {
      "needs_background": "light"
     },
     "output_type": "display_data"
    }
   ],
   "source": [
    "%%time\n",
    "b = benchmark([func2_list, func3_list, func4_list, func2_np, func3_np, func4_np],\n",
    "              arguments = {10**i: 10**i for i in range(5)}, argument_name='n')\n",
    "print(b)\n",
    "b.plot()"
   ]
  },
  {
   "cell_type": "code",
   "execution_count": null,
   "metadata": {},
   "outputs": [],
   "source": []
  }
 ],
 "metadata": {
  "kernelspec": {
   "display_name": "Python 3 (ipykernel)",
   "language": "python",
   "name": "python3"
  },
  "language_info": {
   "codemirror_mode": {
    "name": "ipython",
    "version": 3
   },
   "file_extension": ".py",
   "mimetype": "text/x-python",
   "name": "python",
   "nbconvert_exporter": "python",
   "pygments_lexer": "ipython3",
   "version": "3.10.9"
  }
 },
 "nbformat": 4,
 "nbformat_minor": 4
}
