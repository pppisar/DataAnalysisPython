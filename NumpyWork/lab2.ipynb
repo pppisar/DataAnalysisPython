{
 "cells": [
  {
   "cell_type": "code",
   "execution_count": 24,
   "metadata": {
    "ExecuteTime": {
     "end_time": "2020-10-26T13:53:33.780122Z",
     "start_time": "2020-10-26T13:53:33.325345Z"
    }
   },
   "outputs": [],
   "source": [
    "import numpy as np\n",
    "import matplotlib.pyplot as plt\n",
    "plt.rcParams['figure.dpi'] = 100\n",
    "import os"
   ]
  },
  {
   "cell_type": "markdown",
   "metadata": {},
   "source": [
    "## 1"
   ]
  },
  {
   "cell_type": "code",
   "execution_count": 25,
   "metadata": {
    "ExecuteTime": {
     "end_time": "2020-10-26T13:53:34.515433Z",
     "start_time": "2020-10-26T13:53:34.464603Z"
    }
   },
   "outputs": [
    {
     "data": {
      "text/plain": [
       "array([-2.5132742e+01, -2.4630087e+01, -2.4127432e+01, -2.3624777e+01,\n",
       "       -2.3122122e+01, -2.2619467e+01, -2.2116812e+01, -2.1614157e+01,\n",
       "       -2.1111502e+01, -2.0608849e+01, -2.0106194e+01, -1.9603539e+01,\n",
       "       -1.9100883e+01, -1.8598228e+01, -1.8095573e+01, -1.7592918e+01,\n",
       "       -1.7090263e+01, -1.6587608e+01, -1.6084955e+01, -1.5582299e+01,\n",
       "       -1.5079645e+01, -1.4576990e+01, -1.4074335e+01, -1.3571680e+01,\n",
       "       -1.3069025e+01, -1.2566371e+01, -1.2063716e+01, -1.1561061e+01,\n",
       "       -1.1058406e+01, -1.0555751e+01, -1.0053097e+01, -9.5504417e+00,\n",
       "       -9.0477867e+00, -8.5451317e+00, -8.0424776e+00, -7.5398226e+00,\n",
       "       -7.0371675e+00, -6.5345125e+00, -6.0318580e+00, -5.5292029e+00,\n",
       "       -5.0265484e+00, -4.5238934e+00, -4.0212388e+00, -3.5185838e+00,\n",
       "       -3.0159290e+00, -2.5132742e+00, -2.0106194e+00, -1.5079645e+00,\n",
       "       -1.0053097e+00, -5.0265485e-01,  3.5527137e-15,  5.0265485e-01,\n",
       "        1.0053097e+00,  1.5079645e+00,  2.0106194e+00,  2.5132742e+00,\n",
       "        3.0159290e+00,  3.5185838e+00,  4.0212388e+00,  4.5238934e+00,\n",
       "        5.0265484e+00,  5.5292029e+00,  6.0318580e+00,  6.5345125e+00,\n",
       "        7.0371675e+00,  7.5398226e+00,  8.0424776e+00,  8.5451317e+00,\n",
       "        9.0477867e+00,  9.5504417e+00,  1.0053097e+01,  1.0555751e+01,\n",
       "        1.1058406e+01,  1.1561061e+01,  1.2063716e+01,  1.2566371e+01,\n",
       "        1.3069025e+01,  1.3571680e+01,  1.4074335e+01,  1.4576990e+01,\n",
       "        1.5079645e+01,  1.5582299e+01,  1.6084955e+01,  1.6587608e+01,\n",
       "        1.7090263e+01,  1.7592918e+01,  1.8095573e+01,  1.8598228e+01,\n",
       "        1.9100883e+01,  1.9603539e+01,  2.0106194e+01,  2.0608849e+01,\n",
       "        2.1111502e+01,  2.1614157e+01,  2.2116812e+01,  2.2619467e+01,\n",
       "        2.3122122e+01,  2.3624777e+01,  2.4127432e+01,  2.4630087e+01,\n",
       "        2.5132742e+01], dtype=float32)"
      ]
     },
     "execution_count": 25,
     "metadata": {},
     "output_type": "execute_result"
    },
    {
     "data": {
      "text/plain": [
       "array([-2.5132742e+01, -2.4630087e+01, -2.4127432e+01, -2.3624777e+01,\n",
       "       -2.3122122e+01, -2.2619467e+01, -2.2116812e+01, -2.1614157e+01,\n",
       "       -2.1111502e+01, -2.0608849e+01, -2.0106194e+01, -1.9603539e+01,\n",
       "       -1.9100883e+01, -1.8598228e+01, -1.8095573e+01, -1.7592918e+01,\n",
       "       -1.7090263e+01, -1.6587608e+01, -1.6084955e+01, -1.5582299e+01,\n",
       "       -1.5079645e+01, -1.4576990e+01, -1.4074335e+01, -1.3571680e+01,\n",
       "       -1.3069025e+01, -1.2566371e+01, -1.2063716e+01, -1.1561061e+01,\n",
       "       -1.1058406e+01, -1.0555751e+01, -1.0053097e+01, -9.5504417e+00,\n",
       "       -9.0477867e+00, -8.5451317e+00, -8.0424776e+00, -7.5398226e+00,\n",
       "       -7.0371675e+00, -6.5345125e+00, -6.0318580e+00, -5.5292029e+00,\n",
       "       -5.0265484e+00, -4.5238934e+00, -4.0212388e+00, -3.5185838e+00,\n",
       "       -3.0159290e+00, -2.5132742e+00, -2.0106194e+00, -1.5079645e+00,\n",
       "       -1.0053097e+00, -5.0265485e-01,  3.5527137e-15,  5.0265485e-01,\n",
       "        1.0053097e+00,  1.5079645e+00,  2.0106194e+00,  2.5132742e+00,\n",
       "        3.0159290e+00,  3.5185838e+00,  4.0212388e+00,  4.5238934e+00,\n",
       "        5.0265484e+00,  5.5292029e+00,  6.0318580e+00,  6.5345125e+00,\n",
       "        7.0371675e+00,  7.5398226e+00,  8.0424776e+00,  8.5451317e+00,\n",
       "        9.0477867e+00,  9.5504417e+00,  1.0053097e+01,  1.0555751e+01,\n",
       "        1.1058406e+01,  1.1561061e+01,  1.2063716e+01,  1.2566371e+01,\n",
       "        1.3069025e+01,  1.3571680e+01,  1.4074335e+01,  1.4576990e+01,\n",
       "        1.5079645e+01,  1.5582299e+01,  1.6084955e+01,  1.6587608e+01,\n",
       "        1.7090263e+01,  1.7592918e+01,  1.8095573e+01,  1.8598228e+01,\n",
       "        1.9100883e+01,  1.9603539e+01,  2.0106194e+01,  2.0608849e+01,\n",
       "        2.1111502e+01,  2.1614157e+01,  2.2116812e+01,  2.2619467e+01,\n",
       "        2.3122122e+01,  2.3624777e+01,  2.4127432e+01,  2.4630087e+01,\n",
       "        2.5132742e+01], dtype=float32)"
      ]
     },
     "execution_count": 25,
     "metadata": {},
     "output_type": "execute_result"
    }
   ],
   "source": [
    "x = np.linspace(-8*np.pi, 8*np.pi, 101, dtype = np.float32)\n",
    "x"
   ]
  },
  {
   "cell_type": "markdown",
   "metadata": {},
   "source": [
    "## 2"
   ]
  },
  {
   "cell_type": "code",
   "execution_count": 26,
   "metadata": {
    "ExecuteTime": {
     "end_time": "2020-10-26T13:53:39.213175Z",
     "start_time": "2020-10-26T13:53:39.204198Z"
    }
   },
   "outputs": [
    {
     "data": {
      "text/plain": [
       "array([0.00180617, 0.00231948, 0.00296366, 0.00376766, 0.00476563,\n",
       "       0.00599756, 0.0075099 , 0.00935618, 0.01159762, 0.01430357,\n",
       "       0.01755195, 0.02142949, 0.02603177, 0.03146307, 0.03783588,\n",
       "       0.04527014, 0.05389212, 0.06383285, 0.07522605, 0.088206  ,\n",
       "       0.10290421, 0.11944652, 0.13794929, 0.15851517, 0.18122897,\n",
       "       0.20615298, 0.2333228 , 0.2627424 , 0.29438016, 0.328165  ,\n",
       "       0.36398318, 0.40167603, 0.44103792, 0.4818161 , 0.52371144,\n",
       "       0.5663805 , 0.6094385 , 0.6524645 , 0.6950072 , 0.73659223,\n",
       "       0.7767305 , 0.8149275 , 0.8506933 , 0.8835527 , 0.9130558 ,\n",
       "       0.9387881 , 0.9603803 , 0.97751695, 0.9899444 , 0.99747664,\n",
       "       1.        , 0.99747664, 0.9899444 , 0.97751695, 0.9603803 ,\n",
       "       0.9387881 , 0.9130558 , 0.8835527 , 0.8506933 , 0.8149275 ,\n",
       "       0.7767305 , 0.73659223, 0.6950072 , 0.6524645 , 0.6094385 ,\n",
       "       0.5663805 , 0.52371144, 0.4818161 , 0.44103792, 0.40167603,\n",
       "       0.36398318, 0.328165  , 0.29438016, 0.2627424 , 0.2333228 ,\n",
       "       0.20615298, 0.18122897, 0.15851517, 0.13794929, 0.11944652,\n",
       "       0.10290421, 0.088206  , 0.07522605, 0.06383285, 0.05389212,\n",
       "       0.04527014, 0.03783588, 0.03146307, 0.02603177, 0.02142949,\n",
       "       0.01755195, 0.01430357, 0.01159762, 0.00935618, 0.0075099 ,\n",
       "       0.00599756, 0.00476563, 0.00376766, 0.00296366, 0.00231948,\n",
       "       0.00180617], dtype=float32)"
      ]
     },
     "execution_count": 26,
     "metadata": {},
     "output_type": "execute_result"
    },
    {
     "data": {
      "text/plain": [
       "array([0.00180617, 0.00231948, 0.00296366, 0.00376766, 0.00476563,\n",
       "       0.00599756, 0.0075099 , 0.00935618, 0.01159762, 0.01430357,\n",
       "       0.01755195, 0.02142949, 0.02603177, 0.03146307, 0.03783588,\n",
       "       0.04527014, 0.05389212, 0.06383285, 0.07522605, 0.088206  ,\n",
       "       0.10290421, 0.11944652, 0.13794929, 0.15851517, 0.18122897,\n",
       "       0.20615298, 0.2333228 , 0.2627424 , 0.29438016, 0.328165  ,\n",
       "       0.36398318, 0.40167603, 0.44103792, 0.4818161 , 0.52371144,\n",
       "       0.5663805 , 0.6094385 , 0.6524645 , 0.6950072 , 0.73659223,\n",
       "       0.7767305 , 0.8149275 , 0.8506933 , 0.8835527 , 0.9130558 ,\n",
       "       0.9387881 , 0.9603803 , 0.97751695, 0.9899444 , 0.99747664,\n",
       "       1.        , 0.99747664, 0.9899444 , 0.97751695, 0.9603803 ,\n",
       "       0.9387881 , 0.9130558 , 0.8835527 , 0.8506933 , 0.8149275 ,\n",
       "       0.7767305 , 0.73659223, 0.6950072 , 0.6524645 , 0.6094385 ,\n",
       "       0.5663805 , 0.52371144, 0.4818161 , 0.44103792, 0.40167603,\n",
       "       0.36398318, 0.328165  , 0.29438016, 0.2627424 , 0.2333228 ,\n",
       "       0.20615298, 0.18122897, 0.15851517, 0.13794929, 0.11944652,\n",
       "       0.10290421, 0.088206  , 0.07522605, 0.06383285, 0.05389212,\n",
       "       0.04527014, 0.03783588, 0.03146307, 0.02603177, 0.02142949,\n",
       "       0.01755195, 0.01430357, 0.01159762, 0.00935618, 0.0075099 ,\n",
       "       0.00599756, 0.00476563, 0.00376766, 0.00296366, 0.00231948,\n",
       "       0.00180617], dtype=float32)"
      ]
     },
     "execution_count": 26,
     "metadata": {},
     "output_type": "execute_result"
    }
   ],
   "source": [
    "y1 = np.exp(-0.01*x**2)\n",
    "y1"
   ]
  },
  {
   "cell_type": "markdown",
   "metadata": {},
   "source": [
    "## 3"
   ]
  },
  {
   "cell_type": "code",
   "execution_count": 27,
   "metadata": {
    "ExecuteTime": {
     "end_time": "2020-10-26T13:53:41.640333Z",
     "start_time": "2020-10-26T13:53:41.629367Z"
    }
   },
   "outputs": [
    {
     "data": {
      "text/plain": [
       "array([ 1.8061695e-03,  2.0325780e-03,  1.5880101e-03,  2.3657373e-04,\n",
       "       -2.0291083e-03, -4.8521287e-03, -7.4506812e-03, -8.6991582e-03,\n",
       "       -7.3925955e-03, -2.6802320e-03,  5.4238420e-03,  1.5621421e-02,\n",
       "        2.5213933e-02,  3.0474598e-02,  2.7581161e-02,  1.3989222e-02,\n",
       "       -1.0098414e-02, -4.0688630e-02, -6.9943391e-02, -8.7510467e-02,\n",
       "       -8.3251275e-02, -5.0857879e-02,  8.6619053e-03,  8.4936693e-02,\n",
       "        1.5881220e-01,  2.0615298e-01,  2.0446235e-01,  1.4078440e-01,\n",
       "        1.8484205e-02, -1.3972600e-01, -2.9446852e-01, -3.9850867e-01,\n",
       "       -4.1006666e-01, -3.0712104e-01, -9.8133959e-02,  1.7502108e-01,\n",
       "        4.4426152e-01,  6.3196617e-01,  6.7317230e-01,  5.3695256e-01,\n",
       "        2.4002302e-01, -1.5270224e-01, -5.4225218e-01, -8.2150650e-01,\n",
       "       -9.0585607e-01, -7.5949556e-01, -4.0891013e-01,  6.1378777e-02,\n",
       "        5.3043866e-01,  8.7409544e-01,  1.0000000e+00,  8.7409544e-01,\n",
       "        5.3043866e-01,  6.1378777e-02, -4.0891013e-01, -7.5949556e-01,\n",
       "       -9.0585607e-01, -8.2150650e-01, -5.4225218e-01, -1.5270224e-01,\n",
       "        2.4002302e-01,  5.3695256e-01,  6.7317230e-01,  6.3196617e-01,\n",
       "        4.4426152e-01,  1.7502108e-01, -9.8133959e-02, -3.0712104e-01,\n",
       "       -4.1006666e-01, -3.9850867e-01, -2.9446852e-01, -1.3972600e-01,\n",
       "        1.8484205e-02,  1.4078440e-01,  2.0446235e-01,  2.0615298e-01,\n",
       "        1.5881220e-01,  8.4936693e-02,  8.6619053e-03, -5.0857879e-02,\n",
       "       -8.3251275e-02, -8.7510467e-02, -6.9943391e-02, -4.0688630e-02,\n",
       "       -1.0098414e-02,  1.3989222e-02,  2.7581161e-02,  3.0474598e-02,\n",
       "        2.5213933e-02,  1.5621421e-02,  5.4238420e-03, -2.6802320e-03,\n",
       "       -7.3925955e-03, -8.6991582e-03, -7.4506812e-03, -4.8521287e-03,\n",
       "       -2.0291083e-03,  2.3657373e-04,  1.5880101e-03,  2.0325780e-03,\n",
       "        1.8061695e-03], dtype=float32)"
      ]
     },
     "execution_count": 27,
     "metadata": {},
     "output_type": "execute_result"
    },
    {
     "data": {
      "text/plain": [
       "array([ 1.8061695e-03,  2.0325780e-03,  1.5880101e-03,  2.3657373e-04,\n",
       "       -2.0291083e-03, -4.8521287e-03, -7.4506812e-03, -8.6991582e-03,\n",
       "       -7.3925955e-03, -2.6802320e-03,  5.4238420e-03,  1.5621421e-02,\n",
       "        2.5213933e-02,  3.0474598e-02,  2.7581161e-02,  1.3989222e-02,\n",
       "       -1.0098414e-02, -4.0688630e-02, -6.9943391e-02, -8.7510467e-02,\n",
       "       -8.3251275e-02, -5.0857879e-02,  8.6619053e-03,  8.4936693e-02,\n",
       "        1.5881220e-01,  2.0615298e-01,  2.0446235e-01,  1.4078440e-01,\n",
       "        1.8484205e-02, -1.3972600e-01, -2.9446852e-01, -3.9850867e-01,\n",
       "       -4.1006666e-01, -3.0712104e-01, -9.8133959e-02,  1.7502108e-01,\n",
       "        4.4426152e-01,  6.3196617e-01,  6.7317230e-01,  5.3695256e-01,\n",
       "        2.4002302e-01, -1.5270224e-01, -5.4225218e-01, -8.2150650e-01,\n",
       "       -9.0585607e-01, -7.5949556e-01, -4.0891013e-01,  6.1378777e-02,\n",
       "        5.3043866e-01,  8.7409544e-01,  1.0000000e+00,  8.7409544e-01,\n",
       "        5.3043866e-01,  6.1378777e-02, -4.0891013e-01, -7.5949556e-01,\n",
       "       -9.0585607e-01, -8.2150650e-01, -5.4225218e-01, -1.5270224e-01,\n",
       "        2.4002302e-01,  5.3695256e-01,  6.7317230e-01,  6.3196617e-01,\n",
       "        4.4426152e-01,  1.7502108e-01, -9.8133959e-02, -3.0712104e-01,\n",
       "       -4.1006666e-01, -3.9850867e-01, -2.9446852e-01, -1.3972600e-01,\n",
       "        1.8484205e-02,  1.4078440e-01,  2.0446235e-01,  2.0615298e-01,\n",
       "        1.5881220e-01,  8.4936693e-02,  8.6619053e-03, -5.0857879e-02,\n",
       "       -8.3251275e-02, -8.7510467e-02, -6.9943391e-02, -4.0688630e-02,\n",
       "       -1.0098414e-02,  1.3989222e-02,  2.7581161e-02,  3.0474598e-02,\n",
       "        2.5213933e-02,  1.5621421e-02,  5.4238420e-03, -2.6802320e-03,\n",
       "       -7.3925955e-03, -8.6991582e-03, -7.4506812e-03, -4.8521287e-03,\n",
       "       -2.0291083e-03,  2.3657373e-04,  1.5880101e-03,  2.0325780e-03,\n",
       "        1.8061695e-03], dtype=float32)"
      ]
     },
     "execution_count": 27,
     "metadata": {},
     "output_type": "execute_result"
    }
   ],
   "source": [
    "y2 = y1*np.cos(x)\n",
    "y2"
   ]
  },
  {
   "cell_type": "markdown",
   "metadata": {},
   "source": [
    "## 4"
   ]
  },
  {
   "cell_type": "code",
   "execution_count": 28,
   "metadata": {
    "ExecuteTime": {
     "end_time": "2020-10-26T13:53:44.127126Z",
     "start_time": "2020-10-26T13:53:44.118152Z"
    }
   },
   "outputs": [
    {
     "data": {
      "text/plain": [
       "array([ 0.03423856,  0.0528189 , -0.02267702,  0.05492622, -0.03149085,\n",
       "       -0.04384524,  0.06168429, -0.08495338, -0.02312474,  0.07811783,\n",
       "       -0.0440546 , -0.05516384, -0.07296747, -0.04519336,  0.10818583,\n",
       "       -0.03763076, -0.1037849 , -0.11679429, -0.08600341, -0.1514038 ,\n",
       "       -0.10521339, -0.09885825,  0.05743589, -0.01462157,  0.19621123,\n",
       "        0.13873442,  0.21117178,  0.18949596,  0.11486034, -0.19770554,\n",
       "       -0.26365464, -0.35935623, -0.4642967 , -0.37086342, -0.04457021,\n",
       "        0.19723036,  0.3712324 ,  0.66556717,  0.64098521,  0.58184479,\n",
       "        0.188268  , -0.23051869, -0.61109193, -0.82906387, -0.97902648,\n",
       "       -0.68876244, -0.31254736,  0.05571114,  0.5306787 ,  0.85745902,\n",
       "        1.00674536,  0.92569262,  0.54509173,  0.06210395, -0.49959692,\n",
       "       -0.79613696, -0.97517314, -0.7871826 , -0.46082028, -0.17023387,\n",
       "        0.28758364,  0.47568378,  0.62584205,  0.59566531,  0.35331667,\n",
       "        0.15685584, -0.07620691, -0.34334786, -0.35401413, -0.42022545,\n",
       "       -0.38846773, -0.1356208 , -0.0727844 ,  0.13441285,  0.16965427,\n",
       "        0.27435132,  0.24768139,  0.11401614,  0.01432928, -0.14441419,\n",
       "       -0.15284921, -0.09400894, -0.04218604, -0.03351536, -0.08118291,\n",
       "        0.07878437, -0.03908098,  0.0162195 , -0.03018854,  0.07147363,\n",
       "        0.04341709,  0.06502558, -0.01856967, -0.08975182, -0.05317254,\n",
       "       -0.05498491,  0.00288915,  0.07799545,  0.07007802,  0.04819682,\n",
       "       -0.0209329 ])"
      ]
     },
     "execution_count": 28,
     "metadata": {},
     "output_type": "execute_result"
    },
    {
     "data": {
      "text/plain": [
       "array([ 0.03423856,  0.0528189 , -0.02267702,  0.05492622, -0.03149085,\n",
       "       -0.04384524,  0.06168429, -0.08495338, -0.02312474,  0.07811783,\n",
       "       -0.0440546 , -0.05516384, -0.07296747, -0.04519336,  0.10818583,\n",
       "       -0.03763076, -0.1037849 , -0.11679429, -0.08600341, -0.1514038 ,\n",
       "       -0.10521339, -0.09885825,  0.05743589, -0.01462157,  0.19621123,\n",
       "        0.13873442,  0.21117178,  0.18949596,  0.11486034, -0.19770554,\n",
       "       -0.26365464, -0.35935623, -0.4642967 , -0.37086342, -0.04457021,\n",
       "        0.19723036,  0.3712324 ,  0.66556717,  0.64098521,  0.58184479,\n",
       "        0.188268  , -0.23051869, -0.61109193, -0.82906387, -0.97902648,\n",
       "       -0.68876244, -0.31254736,  0.05571114,  0.5306787 ,  0.85745902,\n",
       "        1.00674536,  0.92569262,  0.54509173,  0.06210395, -0.49959692,\n",
       "       -0.79613696, -0.97517314, -0.7871826 , -0.46082028, -0.17023387,\n",
       "        0.28758364,  0.47568378,  0.62584205,  0.59566531,  0.35331667,\n",
       "        0.15685584, -0.07620691, -0.34334786, -0.35401413, -0.42022545,\n",
       "       -0.38846773, -0.1356208 , -0.0727844 ,  0.13441285,  0.16965427,\n",
       "        0.27435132,  0.24768139,  0.11401614,  0.01432928, -0.14441419,\n",
       "       -0.15284921, -0.09400894, -0.04218604, -0.03351536, -0.08118291,\n",
       "        0.07878437, -0.03908098,  0.0162195 , -0.03018854,  0.07147363,\n",
       "        0.04341709,  0.06502558, -0.01856967, -0.08975182, -0.05317254,\n",
       "       -0.05498491,  0.00288915,  0.07799545,  0.07007802,  0.04819682,\n",
       "       -0.0209329 ])"
      ]
     },
     "execution_count": 28,
     "metadata": {},
     "output_type": "execute_result"
    }
   ],
   "source": [
    "dy = np.random.uniform(low=-0.1, high=0.1, size=101)\n",
    "y3 = y2 + dy\n",
    "y3"
   ]
  },
  {
   "cell_type": "markdown",
   "metadata": {},
   "source": [
    "## 5"
   ]
  },
  {
   "cell_type": "code",
   "execution_count": 29,
   "metadata": {
    "ExecuteTime": {
     "end_time": "2020-10-26T13:53:47.091054Z",
     "start_time": "2020-10-26T13:53:47.083076Z"
    }
   },
   "outputs": [
    {
     "data": {
      "text/plain": [
       "dtype('float64')"
      ]
     },
     "execution_count": 29,
     "metadata": {},
     "output_type": "execute_result"
    },
    {
     "data": {
      "text/plain": [
       "dtype('float64')"
      ]
     },
     "execution_count": 29,
     "metadata": {},
     "output_type": "execute_result"
    }
   ],
   "source": [
    "y3.dtype"
   ]
  },
  {
   "cell_type": "code",
   "execution_count": 30,
   "metadata": {
    "ExecuteTime": {
     "end_time": "2020-10-26T13:53:48.129009Z",
     "start_time": "2020-10-26T13:53:48.124022Z"
    }
   },
   "outputs": [],
   "source": [
    "y3 = y3.astype('float32')"
   ]
  },
  {
   "cell_type": "code",
   "execution_count": 31,
   "metadata": {
    "ExecuteTime": {
     "end_time": "2020-10-26T13:53:49.289792Z",
     "start_time": "2020-10-26T13:53:49.283811Z"
    }
   },
   "outputs": [
    {
     "data": {
      "text/plain": [
       "(dtype('float32'), dtype('float32'), dtype('float32'))"
      ]
     },
     "execution_count": 31,
     "metadata": {},
     "output_type": "execute_result"
    },
    {
     "data": {
      "text/plain": [
       "(dtype('float32'), dtype('float32'), dtype('float32'))"
      ]
     },
     "execution_count": 31,
     "metadata": {},
     "output_type": "execute_result"
    }
   ],
   "source": [
    "y1.dtype, y2.dtype, y3.dtype"
   ]
  },
  {
   "cell_type": "markdown",
   "metadata": {},
   "source": [
    "## 6"
   ]
  },
  {
   "cell_type": "code",
   "execution_count": 32,
   "metadata": {
    "ExecuteTime": {
     "end_time": "2020-10-26T13:53:51.508288Z",
     "start_time": "2020-10-26T13:53:51.499313Z"
    }
   },
   "outputs": [
    {
     "data": {
      "text/plain": [
       "array([ 0.53695256,         nan,         nan,         nan, -0.8215065 ,\n",
       "       -0.9058561 , -0.75949556, -0.40891013,  0.06137878,  0.53043866,\n",
       "        0.87409544,  1.        ,  0.87409544,  0.53043866,  0.06137878,\n",
       "       -0.40891013, -0.75949556, -0.9058561 , -0.8215065 , -0.5422522 ,\n",
       "       -0.15270224,  0.24002302], dtype=float32)"
      ]
     },
     "execution_count": 32,
     "metadata": {},
     "output_type": "execute_result"
    },
    {
     "data": {
      "text/plain": [
       "array([ 0.53695256,         nan,         nan,         nan, -0.8215065 ,\n",
       "       -0.9058561 , -0.75949556, -0.40891013,  0.06137878,  0.53043866,\n",
       "        0.87409544,  1.        ,  0.87409544,  0.53043866,  0.06137878,\n",
       "       -0.40891013, -0.75949556, -0.9058561 , -0.8215065 , -0.5422522 ,\n",
       "       -0.15270224,  0.24002302], dtype=float32)"
      ]
     },
     "execution_count": 32,
     "metadata": {},
     "output_type": "execute_result"
    }
   ],
   "source": [
    "y2[40:43] = np.nan\n",
    "y3[52:55] = np.nan\n",
    "y2[39:61]"
   ]
  },
  {
   "cell_type": "code",
   "execution_count": 33,
   "metadata": {
    "ExecuteTime": {
     "end_time": "2020-10-26T13:53:53.317396Z",
     "start_time": "2020-10-26T13:53:53.309418Z"
    }
   },
   "outputs": [
    {
     "data": {
      "text/plain": [
       "array([ 0.5818448 ,  0.188268  , -0.23051868, -0.6110919 , -0.8290639 ,\n",
       "       -0.9790265 , -0.6887624 , -0.31254736,  0.05571114,  0.5306787 ,\n",
       "        0.857459  ,  1.0067453 ,  0.9256926 ,         nan,         nan,\n",
       "               nan, -0.796137  , -0.9751731 , -0.7871826 , -0.4608203 ,\n",
       "       -0.17023388,  0.28758365], dtype=float32)"
      ]
     },
     "execution_count": 33,
     "metadata": {},
     "output_type": "execute_result"
    },
    {
     "data": {
      "text/plain": [
       "array([ 0.5818448 ,  0.188268  , -0.23051868, -0.6110919 , -0.8290639 ,\n",
       "       -0.9790265 , -0.6887624 , -0.31254736,  0.05571114,  0.5306787 ,\n",
       "        0.857459  ,  1.0067453 ,  0.9256926 ,         nan,         nan,\n",
       "               nan, -0.796137  , -0.9751731 , -0.7871826 , -0.4608203 ,\n",
       "       -0.17023388,  0.28758365], dtype=float32)"
      ]
     },
     "execution_count": 33,
     "metadata": {},
     "output_type": "execute_result"
    }
   ],
   "source": [
    "y3[39:61]"
   ]
  },
  {
   "cell_type": "markdown",
   "metadata": {},
   "source": [
    "## 7"
   ]
  },
  {
   "cell_type": "code",
   "execution_count": 34,
   "metadata": {
    "ExecuteTime": {
     "end_time": "2020-10-26T13:53:56.435710Z",
     "start_time": "2020-10-26T13:53:55.524639Z"
    }
   },
   "outputs": [
    {
     "data": {
      "text/plain": [
       "Text(0.5, 1.0, 'Graphs of functions $\\\\pm y_1(x)$ , $y_2(x)$ і $y_3(x_i)$')"
      ]
     },
     "execution_count": 34,
     "metadata": {},
     "output_type": "execute_result"
    },
    {
     "data": {
      "text/plain": [
       "Text(0.5, 1.0, 'Graphs of functions $\\\\pm y_1(x)$ , $y_2(x)$ і $y_3(x_i)$')"
      ]
     },
     "execution_count": 34,
     "metadata": {},
     "output_type": "execute_result"
    },
    {
     "data": {
      "image/png": "[encoded data removed]",
      "text/plain": [
       "<Figure size 640x480 with 1 Axes>"
      ]
     },
     "metadata": {},
     "output_type": "display_data"
    },
    {
     "data": {
      "image/png": "[encoded data removed]",
      "text/plain": [
       "<Figure size 640x480 with 1 Axes>"
      ]
     },
     "metadata": {},
     "output_type": "display_data"
    }
   ],
   "source": [
    "label1, = plt.plot(x, -y1, '--b', label = '$\\pm y_1$');\n",
    "label12, = plt.plot(x, y1, color = 'b', linestyle = 'dashed');\n",
    "label2, = plt.plot(x, y2, color = 'r', label = '$y_2$');\n",
    "label3, = plt.plot(x, y3, '.g', label = '$y_3$');\n",
    "plt.grid(color = 'gray', linestyle = '-');\n",
    "plt.xlabel('x');\n",
    "plt.ylabel('y');\n",
    "plt.legend();\n",
    "plt.xticks(np.linspace(np.pi*(-8), np.pi*8, 5), ('-8$\\pi$', '-4$\\pi$','0', '$4\\pi$', '$8\\pi$'));\n",
    "plt.yticks(np.linspace(-1,1,5));\n",
    "plt.title('Graphs of functions $\\pm y_1(x)$ , $y_2(x)$ і $y_3(x_i)$' ) "
   ]
  },
  {
   "cell_type": "markdown",
   "metadata": {},
   "source": [
    "## 8"
   ]
  },
  {
   "cell_type": "code",
   "execution_count": 35,
   "metadata": {
    "ExecuteTime": {
     "end_time": "2020-10-26T13:54:01.875439Z",
     "start_time": "2020-10-26T13:54:01.865499Z"
    }
   },
   "outputs": [
    {
     "name": "stdout",
     "output_type": "stream",
     "text": [
      "-0.044337645\n",
      "-0.35401413\n",
      "-0.044337645\n",
      "-0.35401413\n"
     ]
    }
   ],
   "source": [
    "bool_y3 = y3[(y3**2)>0.1]\n",
    "print(bool_y3.mean())\n",
    "print((np.median(bool_y3)))"
   ]
  },
  {
   "cell_type": "markdown",
   "metadata": {},
   "source": [
    "## 9"
   ]
  },
  {
   "cell_type": "code",
   "execution_count": 36,
   "metadata": {
    "ExecuteTime": {
     "end_time": "2020-10-26T13:54:03.687292Z",
     "start_time": "2020-10-26T13:54:03.677318Z"
    }
   },
   "outputs": [],
   "source": [
    "np.save('x', x)\n",
    "np.save('y1', y1)\n",
    "np.save('y2', y2)\n",
    "np.save('y3', y3)"
   ]
  },
  {
   "cell_type": "markdown",
   "metadata": {},
   "source": [
    "## 10"
   ]
  },
  {
   "cell_type": "code",
   "execution_count": 37,
   "metadata": {
    "ExecuteTime": {
     "end_time": "2020-10-26T13:54:06.278399Z",
     "start_time": "2020-10-26T13:54:06.266431Z"
    }
   },
   "outputs": [],
   "source": [
    "np.savez_compressed('xy', x = x, y1 = y1, y2 = y2, y3 = y3)"
   ]
  },
  {
   "cell_type": "markdown",
   "metadata": {},
   "source": [
    "## 11"
   ]
  },
  {
   "cell_type": "code",
   "execution_count": 38,
   "metadata": {
    "ExecuteTime": {
     "end_time": "2020-10-26T13:54:07.595600Z",
     "start_time": "2020-10-26T13:54:07.577649Z"
    }
   },
   "outputs": [
    {
     "name": "stdout",
     "output_type": "stream",
     "text": [
      "True\n",
      "True\n",
      "True\n",
      "True\n",
      "True\n",
      "True\n",
      "True\n",
      "True\n"
     ]
    }
   ],
   "source": [
    "loaded = np.load('xy.npz')\n",
    "x_l = np.load('x.npy')\n",
    "print(np.array_equal(x, x_l))\n",
    "\n",
    "y1_l = np.load('y1.npy')\n",
    "print(np.array_equal(y1, y1_l))\n",
    "\n",
    "y2_l = np.load('y2.npy')\n",
    "print(np.array_equal(y2, y2_l, equal_nan = True))\n",
    "\n",
    "y3_l = np.load('y3.npy')\n",
    "print(np.array_equal(y3, y3_l, equal_nan = True))"
   ]
  },
  {
   "cell_type": "markdown",
   "metadata": {},
   "source": [
    "## 12"
   ]
  },
  {
   "cell_type": "code",
   "execution_count": 39,
   "metadata": {
    "ExecuteTime": {
     "end_time": "2020-10-26T13:54:09.253565Z",
     "start_time": "2020-10-26T13:54:09.240600Z"
    }
   },
   "outputs": [
    {
     "data": {
      "text/plain": [
       "(101, 4)"
      ]
     },
     "execution_count": 39,
     "metadata": {},
     "output_type": "execute_result"
    },
    {
     "data": {
      "text/plain": [
       "(101, 4)"
      ]
     },
     "execution_count": 39,
     "metadata": {},
     "output_type": "execute_result"
    }
   ],
   "source": [
    "y5 = np.array([x, y1, y2, y3]).transpose()\n",
    "np.savetxt('xy.csv', y5, header = 'x,y1,y2,y3', comments = '', \n",
    "           delimiter=',')\n",
    "y5.shape"
   ]
  },
  {
   "cell_type": "markdown",
   "metadata": {},
   "source": [
    "## 13"
   ]
  },
  {
   "cell_type": "code",
   "execution_count": 40,
   "metadata": {
    "ExecuteTime": {
     "end_time": "2020-10-26T13:54:10.843513Z",
     "start_time": "2020-10-26T13:54:10.834537Z"
    }
   },
   "outputs": [
    {
     "name": "stdout",
     "output_type": "stream",
     "text": [
      "532\n",
      "532\n",
      "532\n",
      "532\n",
      "532\n",
      "532\n",
      "532\n",
      "532\n"
     ]
    }
   ],
   "source": [
    "print(os.stat('x.npy').st_size)\n",
    "print(os.stat('y1.npy').st_size)\n",
    "print(os.stat('y2.npy').st_size)\n",
    "print(os.stat('y3.npy').st_size)"
   ]
  },
  {
   "cell_type": "code",
   "execution_count": 41,
   "metadata": {
    "ExecuteTime": {
     "end_time": "2020-10-26T13:54:11.623562Z",
     "start_time": "2020-10-26T13:54:11.617573Z"
    }
   },
   "outputs": [
    {
     "name": "stdout",
     "output_type": "stream",
     "text": [
      "2112\n",
      "2112\n"
     ]
    }
   ],
   "source": [
    "print(os.stat('xy.npz').st_size)"
   ]
  },
  {
   "cell_type": "code",
   "execution_count": 42,
   "metadata": {
    "ExecuteTime": {
     "end_time": "2020-10-26T13:54:12.381946Z",
     "start_time": "2020-10-26T13:54:12.375925Z"
    }
   },
   "outputs": [
    {
     "name": "stdout",
     "output_type": "stream",
     "text": [
      "10237\n",
      "10237\n"
     ]
    }
   ],
   "source": [
    "print(os.stat('xy.csv').st_size)"
   ]
  },
  {
   "cell_type": "markdown",
   "metadata": {},
   "source": [
    "## 14"
   ]
  },
  {
   "cell_type": "code",
   "execution_count": 43,
   "metadata": {
    "ExecuteTime": {
     "end_time": "2020-10-26T13:54:22.109366Z",
     "start_time": "2020-10-26T13:54:22.090416Z"
    }
   },
   "outputs": [
    {
     "data": {
      "text/plain": [
       "array([(-2.51327419e+01, 0.00180617,  1.80616952e-03,  0.03423856),\n",
       "       (-2.46300869e+01, 0.00231948,  2.03257799e-03,  0.0528189 ),\n",
       "       (-2.41274319e+01, 0.00296366,  1.58801011e-03, -0.02267702),\n",
       "       (-2.36247768e+01, 0.00376766,  2.36573731e-04,  0.05492622),\n",
       "       (-2.31221218e+01, 0.00476563, -2.02910835e-03, -0.03149085),\n",
       "       (-2.26194668e+01, 0.00599756, -4.85212868e-03, -0.04384524),\n",
       "       (-2.21168118e+01, 0.0075099 , -7.45068118e-03,  0.06168429),\n",
       "       (-2.16141567e+01, 0.00935618, -8.69915821e-03, -0.08495338),\n",
       "       (-2.11115017e+01, 0.01159762, -7.39259552e-03, -0.02312474),\n",
       "       (-2.06088486e+01, 0.01430357, -2.68023205e-03,  0.07811783),\n",
       "       (-2.01061935e+01, 0.01755195,  5.42384200e-03, -0.0440546 ),\n",
       "       (-1.96035385e+01, 0.02142949,  1.56214209e-02, -0.05516384),\n",
       "       (-1.91008835e+01, 0.02603177,  2.52139326e-02, -0.07296747),\n",
       "       (-1.85982285e+01, 0.03146307,  3.04745976e-02, -0.04519336),\n",
       "       (-1.80955734e+01, 0.03783588,  2.75811609e-02,  0.10818583),\n",
       "       (-1.75929184e+01, 0.04527014,  1.39892222e-02, -0.03763076),\n",
       "       (-1.70902634e+01, 0.05389212, -1.00984136e-02, -0.1037849 ),\n",
       "       (-1.65876083e+01, 0.06383285, -4.06886302e-02, -0.11679429),\n",
       "       (-1.60849552e+01, 0.07522605, -6.99433908e-02, -0.08600342),\n",
       "       (-1.55822992e+01, 0.088206  , -8.75104666e-02, -0.1514038 ),\n",
       "       (-1.50796452e+01, 0.10290421, -8.32512751e-02, -0.10521339),\n",
       "       (-1.45769901e+01, 0.11944652, -5.08578792e-02, -0.09885825),\n",
       "       (-1.40743351e+01, 0.13794929,  8.66190530e-03,  0.05743589),\n",
       "       (-1.35716801e+01, 0.15851517,  8.49366933e-02, -0.01462157),\n",
       "       (-1.30690250e+01, 0.18122897,  1.58812195e-01,  0.19621122),\n",
       "       (-1.25663710e+01, 0.20615298,  2.06152976e-01,  0.13873443),\n",
       "       (-1.20637159e+01, 0.2333228 ,  2.04462349e-01,  0.21117178),\n",
       "       (-1.15610609e+01, 0.2627424 ,  1.40784398e-01,  0.18949597),\n",
       "       (-1.10584059e+01, 0.29438016,  1.84842050e-02,  0.11486034),\n",
       "       (-1.05557508e+01, 0.32816499, -1.39725998e-01, -0.19770554),\n",
       "       (-1.00530968e+01, 0.36398318, -2.94468522e-01, -0.26365465),\n",
       "       (-9.55044174e+00, 0.40167603, -3.98508668e-01, -0.35935622),\n",
       "       (-9.04778671e+00, 0.44103792, -4.10066664e-01, -0.4642967 ),\n",
       "       (-8.54513168e+00, 0.48181611, -3.07121038e-01, -0.37086341),\n",
       "       (-8.04247761e+00, 0.52371144, -9.81339589e-02, -0.04457022),\n",
       "       (-7.53982258e+00, 0.5663805 ,  1.75021082e-01,  0.19723037),\n",
       "       (-7.03716755e+00, 0.60943848,  4.44261521e-01,  0.37123239),\n",
       "       (-6.53451252e+00, 0.65246451,  6.31966174e-01,  0.66556716),\n",
       "       (-6.03185797e+00, 0.69500721,  6.73172295e-01,  0.64098519),\n",
       "       (-5.52920294e+00, 0.73659223,  5.36952555e-01,  0.58184481),\n",
       "       (-5.02654839e+00, 0.77673048,             nan,  0.18826801),\n",
       "       (-4.52389336e+00, 0.81492752,             nan, -0.23051868),\n",
       "       (-4.02123880e+00, 0.85069329,             nan, -0.61109191),\n",
       "       (-3.51858377e+00, 0.88355267, -8.21506500e-01, -0.82906389),\n",
       "       (-3.01592898e+00, 0.91305578, -9.05856073e-01, -0.9790265 ),\n",
       "       (-2.51327419e+00, 0.93878812, -7.59495556e-01, -0.68876243),\n",
       "       (-2.01061940e+00, 0.96038032, -4.08910125e-01, -0.31254736),\n",
       "       (-1.50796449e+00, 0.97751695,  6.13787770e-02,  0.05571114),\n",
       "       (-1.00530970e+00, 0.9899444 ,  5.30438662e-01,  0.53067869),\n",
       "       (-5.02654850e-01, 0.99747664,  8.74095440e-01,  0.85745901),\n",
       "       ( 3.55271368e-15, 1.        ,  1.00000000e+00,  1.00674534),\n",
       "       ( 5.02654850e-01, 0.99747664,  8.74095440e-01,  0.92569262),\n",
       "       ( 1.00530970e+00, 0.9899444 ,  5.30438662e-01,         nan),\n",
       "       ( 1.50796449e+00, 0.97751695,  6.13787770e-02,         nan),\n",
       "       ( 2.01061940e+00, 0.96038032, -4.08910125e-01,         nan),\n",
       "       ( 2.51327419e+00, 0.93878812, -7.59495556e-01, -0.79613698),\n",
       "       ( 3.01592898e+00, 0.91305578, -9.05856073e-01, -0.97517312),\n",
       "       ( 3.51858377e+00, 0.88355267, -8.21506500e-01, -0.78718263),\n",
       "       ( 4.02123880e+00, 0.85069329, -5.42252183e-01, -0.46082029),\n",
       "       ( 4.52389336e+00, 0.81492752, -1.52702242e-01, -0.17023388),\n",
       "       ( 5.02654839e+00, 0.77673048,  2.40023017e-01,  0.28758365),\n",
       "       ( 5.52920294e+00, 0.73659223,  5.36952555e-01,  0.47568378),\n",
       "       ( 6.03185797e+00, 0.69500721,  6.73172295e-01,  0.62584203),\n",
       "       ( 6.53451252e+00, 0.65246451,  6.31966174e-01,  0.59566534),\n",
       "       ( 7.03716755e+00, 0.60943848,  4.44261521e-01,  0.35331666),\n",
       "       ( 7.53982258e+00, 0.5663805 ,  1.75021082e-01,  0.15685584),\n",
       "       ( 8.04247761e+00, 0.52371144, -9.81339589e-02, -0.07620691),\n",
       "       ( 8.54513168e+00, 0.48181611, -3.07121038e-01, -0.34334788),\n",
       "       ( 9.04778671e+00, 0.44103792, -4.10066664e-01, -0.35401413),\n",
       "       ( 9.55044174e+00, 0.40167603, -3.98508668e-01, -0.42022544),\n",
       "       ( 1.00530968e+01, 0.36398318, -2.94468522e-01, -0.38846773),\n",
       "       ( 1.05557508e+01, 0.32816499, -1.39725998e-01, -0.1356208 ),\n",
       "       ( 1.10584059e+01, 0.29438016,  1.84842050e-02, -0.0727844 ),\n",
       "       ( 1.15610609e+01, 0.2627424 ,  1.40784398e-01,  0.13441285),\n",
       "       ( 1.20637159e+01, 0.2333228 ,  2.04462349e-01,  0.16965427),\n",
       "       ( 1.25663710e+01, 0.20615298,  2.06152976e-01,  0.27435133),\n",
       "       ( 1.30690250e+01, 0.18122897,  1.58812195e-01,  0.24768139),\n",
       "       ( 1.35716801e+01, 0.15851517,  8.49366933e-02,  0.11401615),\n",
       "       ( 1.40743351e+01, 0.13794929,  8.66190530e-03,  0.01432928),\n",
       "       ( 1.45769901e+01, 0.11944652, -5.08578792e-02, -0.14441419),\n",
       "       ( 1.50796452e+01, 0.10290421, -8.32512751e-02, -0.15284921),\n",
       "       ( 1.55822992e+01, 0.088206  , -8.75104666e-02, -0.09400894),\n",
       "       ( 1.60849552e+01, 0.07522605, -6.99433908e-02, -0.04218604),\n",
       "       ( 1.65876083e+01, 0.06383285, -4.06886302e-02, -0.03351536),\n",
       "       ( 1.70902634e+01, 0.05389212, -1.00984136e-02, -0.0811829 ),\n",
       "       ( 1.75929184e+01, 0.04527014,  1.39892222e-02,  0.07878437),\n",
       "       ( 1.80955734e+01, 0.03783588,  2.75811609e-02, -0.03908098),\n",
       "       ( 1.85982285e+01, 0.03146307,  3.04745976e-02,  0.0162195 ),\n",
       "       ( 1.91008835e+01, 0.02603177,  2.52139326e-02, -0.03018854),\n",
       "       ( 1.96035385e+01, 0.02142949,  1.56214209e-02,  0.07147363),\n",
       "       ( 2.01061935e+01, 0.01755195,  5.42384200e-03,  0.0434171 ),\n",
       "       ( 2.06088486e+01, 0.01430357, -2.68023205e-03,  0.06502558),\n",
       "       ( 2.11115017e+01, 0.01159762, -7.39259552e-03, -0.01856967),\n",
       "       ( 2.16141567e+01, 0.00935618, -8.69915821e-03, -0.08975182),\n",
       "       ( 2.21168118e+01, 0.0075099 , -7.45068118e-03, -0.05317254),\n",
       "       ( 2.26194668e+01, 0.00599756, -4.85212868e-03, -0.05498491),\n",
       "       ( 2.31221218e+01, 0.00476563, -2.02910835e-03,  0.00288915),\n",
       "       ( 2.36247768e+01, 0.00376766,  2.36573731e-04,  0.07799545),\n",
       "       ( 2.41274319e+01, 0.00296366,  1.58801011e-03,  0.07007802),\n",
       "       ( 2.46300869e+01, 0.00231948,  2.03257799e-03,  0.04819681),\n",
       "       ( 2.51327419e+01, 0.00180617,  1.80616952e-03, -0.0209329 )],\n",
       "      dtype=[('x', '<f8'), ('y1', '<f8'), ('y2', '<f8'), ('y3', '<f8')])"
      ]
     },
     "execution_count": 43,
     "metadata": {},
     "output_type": "execute_result"
    },
    {
     "data": {
      "text/plain": [
       "array([(-2.51327419e+01, 0.00180617,  1.80616952e-03,  0.03423856),\n",
       "       (-2.46300869e+01, 0.00231948,  2.03257799e-03,  0.0528189 ),\n",
       "       (-2.41274319e+01, 0.00296366,  1.58801011e-03, -0.02267702),\n",
       "       (-2.36247768e+01, 0.00376766,  2.36573731e-04,  0.05492622),\n",
       "       (-2.31221218e+01, 0.00476563, -2.02910835e-03, -0.03149085),\n",
       "       (-2.26194668e+01, 0.00599756, -4.85212868e-03, -0.04384524),\n",
       "       (-2.21168118e+01, 0.0075099 , -7.45068118e-03,  0.06168429),\n",
       "       (-2.16141567e+01, 0.00935618, -8.69915821e-03, -0.08495338),\n",
       "       (-2.11115017e+01, 0.01159762, -7.39259552e-03, -0.02312474),\n",
       "       (-2.06088486e+01, 0.01430357, -2.68023205e-03,  0.07811783),\n",
       "       (-2.01061935e+01, 0.01755195,  5.42384200e-03, -0.0440546 ),\n",
       "       (-1.96035385e+01, 0.02142949,  1.56214209e-02, -0.05516384),\n",
       "       (-1.91008835e+01, 0.02603177,  2.52139326e-02, -0.07296747),\n",
       "       (-1.85982285e+01, 0.03146307,  3.04745976e-02, -0.04519336),\n",
       "       (-1.80955734e+01, 0.03783588,  2.75811609e-02,  0.10818583),\n",
       "       (-1.75929184e+01, 0.04527014,  1.39892222e-02, -0.03763076),\n",
       "       (-1.70902634e+01, 0.05389212, -1.00984136e-02, -0.1037849 ),\n",
       "       (-1.65876083e+01, 0.06383285, -4.06886302e-02, -0.11679429),\n",
       "       (-1.60849552e+01, 0.07522605, -6.99433908e-02, -0.08600342),\n",
       "       (-1.55822992e+01, 0.088206  , -8.75104666e-02, -0.1514038 ),\n",
       "       (-1.50796452e+01, 0.10290421, -8.32512751e-02, -0.10521339),\n",
       "       (-1.45769901e+01, 0.11944652, -5.08578792e-02, -0.09885825),\n",
       "       (-1.40743351e+01, 0.13794929,  8.66190530e-03,  0.05743589),\n",
       "       (-1.35716801e+01, 0.15851517,  8.49366933e-02, -0.01462157),\n",
       "       (-1.30690250e+01, 0.18122897,  1.58812195e-01,  0.19621122),\n",
       "       (-1.25663710e+01, 0.20615298,  2.06152976e-01,  0.13873443),\n",
       "       (-1.20637159e+01, 0.2333228 ,  2.04462349e-01,  0.21117178),\n",
       "       (-1.15610609e+01, 0.2627424 ,  1.40784398e-01,  0.18949597),\n",
       "       (-1.10584059e+01, 0.29438016,  1.84842050e-02,  0.11486034),\n",
       "       (-1.05557508e+01, 0.32816499, -1.39725998e-01, -0.19770554),\n",
       "       (-1.00530968e+01, 0.36398318, -2.94468522e-01, -0.26365465),\n",
       "       (-9.55044174e+00, 0.40167603, -3.98508668e-01, -0.35935622),\n",
       "       (-9.04778671e+00, 0.44103792, -4.10066664e-01, -0.4642967 ),\n",
       "       (-8.54513168e+00, 0.48181611, -3.07121038e-01, -0.37086341),\n",
       "       (-8.04247761e+00, 0.52371144, -9.81339589e-02, -0.04457022),\n",
       "       (-7.53982258e+00, 0.5663805 ,  1.75021082e-01,  0.19723037),\n",
       "       (-7.03716755e+00, 0.60943848,  4.44261521e-01,  0.37123239),\n",
       "       (-6.53451252e+00, 0.65246451,  6.31966174e-01,  0.66556716),\n",
       "       (-6.03185797e+00, 0.69500721,  6.73172295e-01,  0.64098519),\n",
       "       (-5.52920294e+00, 0.73659223,  5.36952555e-01,  0.58184481),\n",
       "       (-5.02654839e+00, 0.77673048,             nan,  0.18826801),\n",
       "       (-4.52389336e+00, 0.81492752,             nan, -0.23051868),\n",
       "       (-4.02123880e+00, 0.85069329,             nan, -0.61109191),\n",
       "       (-3.51858377e+00, 0.88355267, -8.21506500e-01, -0.82906389),\n",
       "       (-3.01592898e+00, 0.91305578, -9.05856073e-01, -0.9790265 ),\n",
       "       (-2.51327419e+00, 0.93878812, -7.59495556e-01, -0.68876243),\n",
       "       (-2.01061940e+00, 0.96038032, -4.08910125e-01, -0.31254736),\n",
       "       (-1.50796449e+00, 0.97751695,  6.13787770e-02,  0.05571114),\n",
       "       (-1.00530970e+00, 0.9899444 ,  5.30438662e-01,  0.53067869),\n",
       "       (-5.02654850e-01, 0.99747664,  8.74095440e-01,  0.85745901),\n",
       "       ( 3.55271368e-15, 1.        ,  1.00000000e+00,  1.00674534),\n",
       "       ( 5.02654850e-01, 0.99747664,  8.74095440e-01,  0.92569262),\n",
       "       ( 1.00530970e+00, 0.9899444 ,  5.30438662e-01,         nan),\n",
       "       ( 1.50796449e+00, 0.97751695,  6.13787770e-02,         nan),\n",
       "       ( 2.01061940e+00, 0.96038032, -4.08910125e-01,         nan),\n",
       "       ( 2.51327419e+00, 0.93878812, -7.59495556e-01, -0.79613698),\n",
       "       ( 3.01592898e+00, 0.91305578, -9.05856073e-01, -0.97517312),\n",
       "       ( 3.51858377e+00, 0.88355267, -8.21506500e-01, -0.78718263),\n",
       "       ( 4.02123880e+00, 0.85069329, -5.42252183e-01, -0.46082029),\n",
       "       ( 4.52389336e+00, 0.81492752, -1.52702242e-01, -0.17023388),\n",
       "       ( 5.02654839e+00, 0.77673048,  2.40023017e-01,  0.28758365),\n",
       "       ( 5.52920294e+00, 0.73659223,  5.36952555e-01,  0.47568378),\n",
       "       ( 6.03185797e+00, 0.69500721,  6.73172295e-01,  0.62584203),\n",
       "       ( 6.53451252e+00, 0.65246451,  6.31966174e-01,  0.59566534),\n",
       "       ( 7.03716755e+00, 0.60943848,  4.44261521e-01,  0.35331666),\n",
       "       ( 7.53982258e+00, 0.5663805 ,  1.75021082e-01,  0.15685584),\n",
       "       ( 8.04247761e+00, 0.52371144, -9.81339589e-02, -0.07620691),\n",
       "       ( 8.54513168e+00, 0.48181611, -3.07121038e-01, -0.34334788),\n",
       "       ( 9.04778671e+00, 0.44103792, -4.10066664e-01, -0.35401413),\n",
       "       ( 9.55044174e+00, 0.40167603, -3.98508668e-01, -0.42022544),\n",
       "       ( 1.00530968e+01, 0.36398318, -2.94468522e-01, -0.38846773),\n",
       "       ( 1.05557508e+01, 0.32816499, -1.39725998e-01, -0.1356208 ),\n",
       "       ( 1.10584059e+01, 0.29438016,  1.84842050e-02, -0.0727844 ),\n",
       "       ( 1.15610609e+01, 0.2627424 ,  1.40784398e-01,  0.13441285),\n",
       "       ( 1.20637159e+01, 0.2333228 ,  2.04462349e-01,  0.16965427),\n",
       "       ( 1.25663710e+01, 0.20615298,  2.06152976e-01,  0.27435133),\n",
       "       ( 1.30690250e+01, 0.18122897,  1.58812195e-01,  0.24768139),\n",
       "       ( 1.35716801e+01, 0.15851517,  8.49366933e-02,  0.11401615),\n",
       "       ( 1.40743351e+01, 0.13794929,  8.66190530e-03,  0.01432928),\n",
       "       ( 1.45769901e+01, 0.11944652, -5.08578792e-02, -0.14441419),\n",
       "       ( 1.50796452e+01, 0.10290421, -8.32512751e-02, -0.15284921),\n",
       "       ( 1.55822992e+01, 0.088206  , -8.75104666e-02, -0.09400894),\n",
       "       ( 1.60849552e+01, 0.07522605, -6.99433908e-02, -0.04218604),\n",
       "       ( 1.65876083e+01, 0.06383285, -4.06886302e-02, -0.03351536),\n",
       "       ( 1.70902634e+01, 0.05389212, -1.00984136e-02, -0.0811829 ),\n",
       "       ( 1.75929184e+01, 0.04527014,  1.39892222e-02,  0.07878437),\n",
       "       ( 1.80955734e+01, 0.03783588,  2.75811609e-02, -0.03908098),\n",
       "       ( 1.85982285e+01, 0.03146307,  3.04745976e-02,  0.0162195 ),\n",
       "       ( 1.91008835e+01, 0.02603177,  2.52139326e-02, -0.03018854),\n",
       "       ( 1.96035385e+01, 0.02142949,  1.56214209e-02,  0.07147363),\n",
       "       ( 2.01061935e+01, 0.01755195,  5.42384200e-03,  0.0434171 ),\n",
       "       ( 2.06088486e+01, 0.01430357, -2.68023205e-03,  0.06502558),\n",
       "       ( 2.11115017e+01, 0.01159762, -7.39259552e-03, -0.01856967),\n",
       "       ( 2.16141567e+01, 0.00935618, -8.69915821e-03, -0.08975182),\n",
       "       ( 2.21168118e+01, 0.0075099 , -7.45068118e-03, -0.05317254),\n",
       "       ( 2.26194668e+01, 0.00599756, -4.85212868e-03, -0.05498491),\n",
       "       ( 2.31221218e+01, 0.00476563, -2.02910835e-03,  0.00288915),\n",
       "       ( 2.36247768e+01, 0.00376766,  2.36573731e-04,  0.07799545),\n",
       "       ( 2.41274319e+01, 0.00296366,  1.58801011e-03,  0.07007802),\n",
       "       ( 2.46300869e+01, 0.00231948,  2.03257799e-03,  0.04819681),\n",
       "       ( 2.51327419e+01, 0.00180617,  1.80616952e-03, -0.0209329 )],\n",
       "      dtype=[('x', '<f8'), ('y1', '<f8'), ('y2', '<f8'), ('y3', '<f8')])"
      ]
     },
     "execution_count": 43,
     "metadata": {},
     "output_type": "execute_result"
    }
   ],
   "source": [
    "data = np.genfromtxt('xy.csv', names = True, delimiter = ',')\n",
    "data"
   ]
  },
  {
   "cell_type": "code",
   "execution_count": 44,
   "metadata": {
    "ExecuteTime": {
     "end_time": "2020-10-26T13:54:27.488602Z",
     "start_time": "2020-10-26T13:54:27.481623Z"
    }
   },
   "outputs": [
    {
     "data": {
      "text/plain": [
       "0.0018061695154756308"
      ]
     },
     "execution_count": 44,
     "metadata": {},
     "output_type": "execute_result"
    },
    {
     "data": {
      "text/plain": [
       "0.0018061695154756308"
      ]
     },
     "execution_count": 44,
     "metadata": {},
     "output_type": "execute_result"
    }
   ],
   "source": [
    "data[0]['y2']"
   ]
  },
  {
   "cell_type": "markdown",
   "metadata": {},
   "source": [
    "## 15"
   ]
  },
  {
   "cell_type": "code",
   "execution_count": 45,
   "metadata": {
    "ExecuteTime": {
     "end_time": "2020-10-26T13:54:29.761217Z",
     "start_time": "2020-10-26T13:54:29.753309Z"
    }
   },
   "outputs": [
    {
     "name": "stdout",
     "output_type": "stream",
     "text": [
      "True\n",
      "True\n",
      "True\n",
      "True\n"
     ]
    }
   ],
   "source": [
    "print(np.array_equal(data['x'], x))\n",
    "print(np.array_equal(data['y3'], y3, equal_nan = True))"
   ]
  },
  {
   "cell_type": "markdown",
   "metadata": {},
   "source": [
    "## 16"
   ]
  },
  {
   "cell_type": "code",
   "execution_count": 47,
   "metadata": {
    "ExecuteTime": {
     "end_time": "2020-10-26T13:54:32.139380Z",
     "start_time": "2020-10-26T13:54:31.908981Z"
    }
   },
   "outputs": [
    {
     "data": {
      "image/png": "[encoded data removed]",
      "text/plain": [
       "<Figure size 640x480 with 1 Axes>"
      ]
     },
     "metadata": {},
     "output_type": "display_data"
    },
    {
     "data": {
      "image/png": "[encoded data removed]",
      "text/plain": [
       "<Figure size 640x480 with 1 Axes>"
      ]
     },
     "metadata": {},
     "output_type": "display_data"
    }
   ],
   "source": [
    "plt.plot('x', 'y2', 'r', data = data);"
   ]
  },
  {
   "cell_type": "code",
   "execution_count": null,
   "metadata": {},
   "outputs": [],
   "source": []
  }
 ],
 "metadata": {
  "kernelspec": {
   "display_name": "Python 3 (ipykernel)",
   "language": "python",
   "name": "python3"
  },
  "language_info": {
   "codemirror_mode": {
    "name": "ipython",
    "version": 3
   },
   "file_extension": ".py",
   "mimetype": "text/x-python",
   "name": "python",
   "nbconvert_exporter": "python",
   "pygments_lexer": "ipython3",
   "version": "3.10.9"
  }
 },
 "nbformat": 4,
 "nbformat_minor": 4
}
